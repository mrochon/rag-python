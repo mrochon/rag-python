{
 "cells": [
  {
   "cell_type": "code",
   "execution_count": 1,
   "metadata": {},
   "outputs": [],
   "source": [
    "import dotenv\n",
    "dotenv.load_dotenv('.env', verbose=True, override=True)\n",
    "import os\n",
    "from langchain_openai import AzureChatOpenAI\n",
    "COMPLETION_TOKENS = 2500\n",
    "llm = AzureChatOpenAI(deployment_name=os.environ[\"GPT_DEPLOYMENT\"], temperature=0.5, max_tokens=COMPLETION_TOKENS)"
   ]
  },
  {
   "cell_type": "code",
   "execution_count": 3,
   "metadata": {},
   "outputs": [],
   "source": [
    "from langchain_core.output_parsers import StrOutputParser\n",
    "from operator import itemgetter\n",
    "from langchain_core.prompts import ChatPromptTemplate, MessagesPlaceholder\n",
    "\n",
    "dotenv.load_dotenv('.env', verbose=True, override=True)\n",
    "\n",
    "from common.customAzureSearch import CustomAzureSearchRetriever\n",
    "from azure.identity import DefaultAzureCredential\n",
    "\n",
    "DOCSEARCH_PROMPT_TEXT = \"\"\"Answer the question thoroughly, based **ONLY** on the following context:\n",
    "{context}\n",
    "\n",
    "Question: {question}\n",
    "\"\"\"\n",
    "\n",
    "DOCSEARCH_PROMPT = ChatPromptTemplate.from_messages(\n",
    "    [\n",
    "        (\"system\", DOCSEARCH_PROMPT_TEXT),\n",
    "        MessagesPlaceholder(variable_name=\"history\", optional=True),\n",
    "        (\"human\", \"{question}\"),\n",
    "    ]\n",
    ")\n",
    "\n",
    "cred = DefaultAzureCredential()\n",
    "retriever = CustomAzureSearchRetriever(indexes=[os.environ['INDEX_NAME']], credential=cred, topK=5, reranker_threshold=1)\n"
   ]
  },
  {
   "cell_type": "code",
   "execution_count": 5,
   "metadata": {},
   "outputs": [
    {
     "name": "stdout",
     "output_type": "stream",
     "text": [
      "messages=[SystemMessage(content='Answer the question thoroughly, based **ONLY** on the following context:\\n[Document(page_content=\\'the printing parameters according to\\\\n\\\\nindividual needs. We recommend using the default parameters and\\\\n\\\\nLONGER filaments to get the best printing results, please refer to\\\\n\\\\npage 11 to import the default settings.\\\\n\\\\n\\\\n\\\\nwww.longer3d.com support@longer3d.com22\\\\n\\\\n\\\\n\\\\nwww.longer3d.com support@longer3d.com23\\\\n\\\\n(4)Slice and save Gcode files\\\\n\\\\nClick Slice to generate G-code for printing.\\\\n\\\\nSave to removable drive (Save the gcode file to storage card). And\\\\n\\\\nthe software will evaluate the time required to print the file and the\\\\n\\\\nweight of filament.\\\\n\\\\nNOTE: “Save to removable drive” option will apear when microSD\\\\n\\\\ncard is inserted.\\\\n\\\\n(5)More\\\\n\\\\nA) Slice and preview\\\\n\\\\nClick the \"Slice\" button in the lower right corner of the software.\\\\n\\\\nAfter the slicing is finished, click the \"preview\" button to preview the\\\\n\\\\nsimulated printing effect in the preview view.\\\\n\\\\n\\\\n\\\\nwww.longer3d.com support@longer3d.com24\\\\n\\\\nB) Print online\\\\n\\\\nAfter the parameters have been set up, you can print online via\\\\n\\\\nCura.\\', metadata={\\'source\\': \\'https://ai84ad.blob.core.windows.net/manuals/LK5pro%20user%20manual%20v2.1.pdf\\', \\'score\\': 2.4034159183502197}), Document(page_content=\\'(2)Add 3D model into Cura 4.8\\\\n\\\\nIn the Cura software interface, click on the \"Open File(s)\" to import\\\\n\\\\nyour own 3D model (such as \".stl\" file).\\\\n\\\\nNote: as shown in the figure on the right, the gray color of the\\\\n\\\\nmodel indicates that the model is out of print range.\\\\n\\\\n\\\\n\\\\nwww.longer3d.com support@longer3d.com21\\\\n\\\\nMore Operations:\\\\n\\\\na) Position change: left click on the model, hold on and drag the\\\\n\\\\nmodel to move.\\\\n\\\\nb) Zoom in/out: scroll the mouse wheel.\\\\n\\\\nc) Change viewing angle: right-click and move the mouse.\\\\n\\\\n(3)Slicing parameters\\\\n\\\\nUsers can customize the printing parameters according to\\\\n\\\\nindividual needs. We recommend using the default parameters and\\\\n\\\\nLONGER filaments to get the best printing results, please refer to\\\\n\\\\npage 11 to import the default settings.\\\\n\\\\n\\\\n\\\\nwww.longer3d.com support@longer3d.com22\\\\n\\\\n\\\\n\\\\nwww.longer3d.com support@longer3d.com23\\\\n\\\\n(4)Slice and save Gcode files\\\\n\\\\nClick Slice to generate G-code for printing.\\\\n\\\\nSave to removable drive (Save the gcode file to storage card). And\\', metadata={\\'source\\': \\'https://ai84ad.blob.core.windows.net/manuals/LK5pro%20user%20manual%20v2.1.pdf\\', \\'score\\': 2.3559281826019287}), Document(page_content=\\'for ≥ 96 hours, it\\\\n\\\\nshould be stopped for 1-3 hours.\\\\n\\\\n4) filaments\\\\n\\\\nThe filaments are not used after unpacking or for a long period of\\\\n\\\\ntime after the print model is completed. The filaments should be\\\\n\\\\ntaken out of the printer and sealed to prevent the filaments from\\\\n\\\\n\\\\n\\\\nwww.longer3d.com support@longer3d.com2\\\\n\\\\nbeing exposed to the air for a long time, causing moisture and\\\\n\\\\naffecting the print quality. At the same time, when the filaments are\\\\n\\\\nremoved The front end of the filament should be fixed on the tray to\\\\n\\\\navoid filaments and affect the next print.\\\\n\\\\nTo use this printer, it is recommended to use the supplies provided\\\\n\\\\nby the company. At present, the quality of filaments sold in the retail\\\\n\\\\nmarket is uneven, and printing is prone to breakage.\\\\n\\\\nStaggering and clogging the printer nozzle, etc., and irreversible\\\\n\\\\ndamage to the heating components of the nozzle, the extrusion\\\\n\\\\nmotor and the extrusion gear. The company will not guarantee the\\', metadata={\\'source\\': \\'https://ai84ad.blob.core.windows.net/manuals/LK5pro%20user%20manual%20v2.1.pdf\\', \\'score\\': 2.3168656826019287}), Document(page_content=\\'the good filament. And be\\\\n\\\\ncareful to avoid burns when cleaning the clogged nozzle because\\\\n\\\\nthe nozzle is heated to a high temperature.\\\\n\\\\n\\\\n\\\\nwww.longer3d.com support@longer3d.com28\\\\n\\\\nQuestion3: What to do if the hot bed can not be leveled?\\\\n\\\\n1) First check the installation position of the Z axis limit switch to\\\\n\\\\nmake sure the installation height is contacted with the top of the\\\\n\\\\nlabel paper, as shown in the following picture. If the position of the\\\\n\\\\nlimit switch is too high or too lower, which will cause the hot bed can\\\\n\\\\nnot be leveled normally;\\\\n\\\\n2) If one side of the hot bed can not leveled properly,it may caused\\\\n\\\\nby the tilted X-axis beam.Then please level the X-axis beam by\\\\n\\\\nadjusting the right side eccentric nut with a wrench.\\\\n\\\\n\\\\n\\\\nwww.longer3d.com support@longer3d.com29\\\\n\\\\nQuestion4: How to solve the problem of filament is not\\\\n\\\\nadhered to the printing bed?\\\\n\\\\n1) First check whether the hot bed has been properly leveled, if the\\', metadata={\\'source\\': \\'https://ai84ad.blob.core.windows.net/manuals/LK5pro%20user%20manual%20v2.1.pdf\\', \\'score\\': 1.7841604948043823}), Document(page_content=\\'the tray to\\\\n\\\\navoid filaments and affect the next print.\\\\n\\\\nTo use this printer, it is recommended to use the supplies provided\\\\n\\\\nby the company. At present, the quality of filaments sold in the retail\\\\n\\\\nmarket is uneven, and printing is prone to breakage.\\\\n\\\\nStaggering and clogging the printer nozzle, etc., and irreversible\\\\n\\\\ndamage to the heating components of the nozzle, the extrusion\\\\n\\\\nmotor and the extrusion gear. The company will not guarantee the\\\\n\\\\nprinter due to the use of filaments other than our company.\\\\n\\\\n5) Environmental requirements\\\\n\\\\nTemperature requirement: 10°C~30°C, humidity requirement:\\\\n\\\\n20%~50%, this 3D printer can work normally within this range;\\\\n\\\\nbeyond this range, this 3D printer will unable to achieve the best\\\\n\\\\nprint results.\\\\n\\\\n\\\\n\\\\nwww.longer3d.com support@longer3d.com3\\\\n\\\\nA. Product information\\\\n(1)Model parameter\\\\n\\\\nModel LK5 Pro Molding FDM\\\\n\\\\nPrinting size 300*300*400 mm Nozzle diameter 0.4 mm\\\\n\\\\nPrinting speed Up to 120 mm/s Layer thickness 0.1-0.4 mm\\\\n\\\\nSlicing software Cura etc.\\', metadata={\\'source\\': \\'https://ai84ad.blob.core.windows.net/manuals/LK5pro%20user%20manual%20v2.1.pdf\\', \\'score\\': 1.4479166269302368})]\\n\\nQuestion: Which fillaments does Longer recommend?\\n'), HumanMessage(content='Which fillaments does Longer recommend?')]\n"
     ]
    }
   ],
   "source": [
    "chain = (\n",
    "    {\n",
    "        \"context\": itemgetter(\"question\") | retriever, # Passes the question to the retriever and the results are assign to context\n",
    "        \"question\": itemgetter(\"question\")\n",
    "    }\n",
    "    | DOCSEARCH_PROMPT\n",
    ")\n",
    "resp = chain.invoke({\"question\": \"Which fillaments does Longer recommend?\"})\n",
    "print(resp)"
   ]
  }
 ],
 "metadata": {
  "kernelspec": {
   "display_name": ".venv",
   "language": "python",
   "name": "python3"
  },
  "language_info": {
   "codemirror_mode": {
    "name": "ipython",
    "version": 3
   },
   "file_extension": ".py",
   "mimetype": "text/x-python",
   "name": "python",
   "nbconvert_exporter": "python",
   "pygments_lexer": "ipython3",
   "version": "3.12.1"
  }
 },
 "nbformat": 4,
 "nbformat_minor": 2
}
