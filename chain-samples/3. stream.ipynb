{
 "cells": [
  {
   "cell_type": "code",
   "execution_count": 1,
   "metadata": {},
   "outputs": [],
   "source": [
    "import dotenv\n",
    "dotenv.load_dotenv('.env', verbose=True, override=True)\n",
    "import os\n",
    "from langchain_openai import AzureChatOpenAI\n",
    "COMPLETION_TOKENS = 2500\n",
    "llm = AzureChatOpenAI(deployment_name=os.environ[\"GPT_DEPLOYMENT\"], temperature=0.5, max_tokens=COMPLETION_TOKENS)"
   ]
  },
  {
   "cell_type": "code",
   "execution_count": 8,
   "metadata": {},
   "outputs": [
    {
     "name": "stdout",
     "output_type": "stream",
     "text": [
      "'Inception' is a mind-bending science fiction film directed by Christopher Nolan. The story follows Dom Cobb, a skilled thief who specializes in extracting valuable information from the subconscious minds of his targets using a revolutionary technology called dream-sharing.\n",
      "\n",
      "In a world where dream-sharing is possible, Cobb is approached by a wealthy businessman named Saito, who offers him a chance to redeem himself and return to his family. However, Saito wants Cobb to perform an \"inception,\" which is the act of planting an idea into someone's mind rather than extracting information.\n",
      "\n",
      "Cobb assembles a team of specialists for the complex task of inception. The team includes Arthur, Cobb's partner and point man; Eames, a skilled forger; Yusuf, a chemist who provides sedatives for the shared dream experience; and Ariadne, a brilliant architect who designs the dreamscapes.\n",
      "\n",
      "Their target is Robert Fischer, the heir to a massive energy conglomerate. Saito wants Cobb to plant the idea in Fischer's mind to dissolve his father's company, which would benefit Saito's own business interests. To achieve this, the team must descend into multiple layers of dreams, creating a dream within a dream within a dream.\n",
      "\n",
      "As they enter Fischer's dreams, they face various challenges and dangers. The dreams are populated by Fischer's projections, which are manifestations of his subconscious mind that try to protect him from intrusion. Cobb's own subconscious also haunts him, in the form of his deceased wife Mal, who sabotages their mission at every turn.\n",
      "\n",
      "As the team delves deeper into the dream levels, time becomes distorted, and they must race against the clock to complete the inception before they get trapped in limbo, a state of perpetual subconscious existence. They encounter thrilling action sequences, gravity-defying environments, and mind-bending twists as they navigate through the intricacies of the dreamscape.\n",
      "\n",
      "Throughout the mission, Cobb grapples with his own guilt and the unresolved trauma of his wife's death. He carries a secret that could jeopardize the team's success and his own sanity. The film explores the themes of reality, memory, and the power of ideas.\n",
      "\n",
      "In the final layer of the dream, Cobb confronts Mal in limbo and manages to convince her to let go of her delusions. With the inception successfully planted, the team wakes up, but Cobb chooses to stay behind to find Saito, who has entered limbo. Cobb and Saito find each other and agree to honor their pact to return home.\n",
      "\n",
      "The film ends ambiguously, leaving the audience questioning whether Cobb has returned to reality or if he is still trapped in a dream. The final shot reveals Cobb's spinning top, a totem that helps him distinguish between dreams and reality, but the film cuts to black before the top falls, leaving the answer open to interpretation."
     ]
    }
   ],
   "source": [
    "for r in llm.stream(\"Describe the plot of the movie 'Inception' in detail.\"):\n",
    "    print(r.content, end='')\n",
    "    if \"error\" in r:\n",
    "        break"
   ]
  }
 ],
 "metadata": {
  "kernelspec": {
   "display_name": ".venv",
   "language": "python",
   "name": "python3"
  },
  "language_info": {
   "codemirror_mode": {
    "name": "ipython",
    "version": 3
   },
   "file_extension": ".py",
   "mimetype": "text/x-python",
   "name": "python",
   "nbconvert_exporter": "python",
   "pygments_lexer": "ipython3",
   "version": "3.12.1"
  }
 },
 "nbformat": 4,
 "nbformat_minor": 2
}
